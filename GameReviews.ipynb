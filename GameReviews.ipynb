{
 "cells": [
  {
   "cell_type": "code",
   "execution_count": 2,
   "metadata": {
    "ExecuteTime": {
     "end_time": "2019-03-10T11:57:19.429442Z",
     "start_time": "2019-03-10T11:57:19.425776Z"
    }
   },
   "outputs": [],
   "source": [
    "import pandas as pd, numpy as np,string,nltk\n",
    "from fuzzywuzzy import fuzz,process"
   ]
  },
  {
   "cell_type": "code",
   "execution_count": 3,
   "metadata": {
    "ExecuteTime": {
     "end_time": "2019-03-10T11:57:20.732629Z",
     "start_time": "2019-03-10T11:57:20.688058Z"
    }
   },
   "outputs": [],
   "source": [
    "#make pd dataframes from different game review websites \n",
    "\n",
    "GameRankingsUser = pd.read_csv(\"Game rankings user.csv\",header=None,names = [\"Title\", \"Rank\", \"Score\"])\n",
    "GameSpotUser = pd.read_csv(\"Gamespot User.csv\",header=None,names = [\"Title\",\"Rank\",\"Score\"])\n",
    "IGN = pd.read_excel(\"IGN.xlsx\",header=None,names = [\"Title\",\"Rank\"])\n",
    "ImdbUser = pd.read_excel(\"imdb user.xlsx\", header=None,names = [\"Title\",\"Rank\",\"Score\"])\n",
    "MetacriticUser = pd.read_csv(\"Metacritic User.csv\",header=None,names = [\"Title\",\"Rank\",\"Score\"])\n",
    "Metacritic = pd.read_csv(\"Metacritic.csv\",header=None,names = [\"Title\",\"Rank\",\"Score\"])\n",
    "Times = pd.read_csv(\"Times50.csv\",header=None,names=[\"Title\",\"Rank\"])"
   ]
  },
  {
   "cell_type": "code",
   "execution_count": 4,
   "metadata": {
    "ExecuteTime": {
     "end_time": "2019-03-10T11:57:23.135463Z",
     "start_time": "2019-03-10T11:57:23.128127Z"
    }
   },
   "outputs": [],
   "source": [
    "#make pd dataframe for clean game titles by fuzzy matching full list of games\n",
    "\n",
    "NameLookup = pd.concat([GameRankingsUser.Title,GameSpotUser.Title,IGN.Title,ImdbUser.Title,\n",
    "                        MetacriticUser.Title,Metacritic.Title,Times.Title])\n",
    "\n",
    "NameLookup = pd.DataFrame(NameLookup)\n",
    "NameLookup = NameLookup.drop_duplicates().reset_index(drop=True)"
   ]
  },
  {
   "cell_type": "code",
   "execution_count": 10,
   "metadata": {
    "ExecuteTime": {
     "end_time": "2019-03-10T11:58:02.988615Z",
     "start_time": "2019-03-10T11:58:02.945656Z"
    }
   },
   "outputs": [],
   "source": [
    "#make dataframe with fuzzy matching loop to pull best matches as column\n",
    "\n",
    "i=20\n",
    "MatchPrevious = NameLookup.loc[i].Title\n",
    "ScoreDF = pd.DataFrame(columns=[\"Title\",\"Score\"])\n",
    "\n",
    "for row in NameLookup.Title[:i]:\n",
    "    temp = pd.DataFrame({\n",
    "                         \"Title\":[row]\n",
    "                        ,\"Score\":[fuzz.token_set_ratio(MatchPrevious,row)]\n",
    "                        })\n",
    "    ScoreDF = ScoreDF.append(temp)\n",
    "\n",
    "BestScore = pd.DataFrame({\"Title\":[MatchPrevious],\n",
    "\"Best Score\":[max(ScoreDF.Score)],\n",
    "\"Best Score Title\":[np.array(ScoreDF.loc[ScoreDF.Score == max(ScoreDF.Score),\"Title\"])[0]]})"
   ]
  },
  {
   "cell_type": "code",
   "execution_count": 11,
   "metadata": {
    "ExecuteTime": {
     "end_time": "2019-03-10T11:58:04.402252Z",
     "start_time": "2019-03-10T11:58:04.392552Z"
    }
   },
   "outputs": [
    {
     "data": {
      "text/html": [
       "<div>\n",
       "<style scoped>\n",
       "    .dataframe tbody tr th:only-of-type {\n",
       "        vertical-align: middle;\n",
       "    }\n",
       "\n",
       "    .dataframe tbody tr th {\n",
       "        vertical-align: top;\n",
       "    }\n",
       "\n",
       "    .dataframe thead th {\n",
       "        text-align: right;\n",
       "    }\n",
       "</style>\n",
       "<table border=\"1\" class=\"dataframe\">\n",
       "  <thead>\n",
       "    <tr style=\"text-align: right;\">\n",
       "      <th></th>\n",
       "      <th>Title</th>\n",
       "      <th>Best Score</th>\n",
       "      <th>Best Score Title</th>\n",
       "    </tr>\n",
       "  </thead>\n",
       "  <tbody>\n",
       "    <tr>\n",
       "      <th>0</th>\n",
       "      <td>Grand Theft Auto III</td>\n",
       "      <td>94</td>\n",
       "      <td>Grand Theft Auto V</td>\n",
       "    </tr>\n",
       "  </tbody>\n",
       "</table>\n",
       "</div>"
      ],
      "text/plain": [
       "                  Title  Best Score    Best Score Title\n",
       "0  Grand Theft Auto III          94  Grand Theft Auto V"
      ]
     },
     "execution_count": 11,
     "metadata": {},
     "output_type": "execute_result"
    }
   ],
   "source": [
    "BestScore.head()"
   ]
  }
 ],
 "metadata": {
  "kernelspec": {
   "display_name": "p36workshop",
   "language": "python",
   "name": "p36workshop"
  },
  "language_info": {
   "codemirror_mode": {
    "name": "ipython",
    "version": 3
   },
   "file_extension": ".py",
   "mimetype": "text/x-python",
   "name": "python",
   "nbconvert_exporter": "python",
   "pygments_lexer": "ipython3",
   "version": "3.6.7"
  }
 },
 "nbformat": 4,
 "nbformat_minor": 2
}
